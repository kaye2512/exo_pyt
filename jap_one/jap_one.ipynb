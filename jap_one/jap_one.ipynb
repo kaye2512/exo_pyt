{
 "cells": [
  {
   "cell_type": "markdown",
   "metadata": {},
   "source": [
    "# Libraries "
   ]
  },
  {
   "cell_type": "code",
   "execution_count": 1,
   "metadata": {},
   "outputs": [],
   "source": [
    "import pandas as pd \n",
    "from wordcloud import WordCloud\n",
    "from collections import defaultdict"
   ]
  },
  {
   "cell_type": "markdown",
   "metadata": {},
   "source": [
    "# File load"
   ]
  },
  {
   "cell_type": "code",
   "execution_count": 2,
   "metadata": {},
   "outputs": [],
   "source": [
    "# Load file\n",
    "orders = pd.read_csv(\"input_test_info.csv\")"
   ]
  },
  {
   "cell_type": "code",
   "execution_count": 3,
   "metadata": {},
   "outputs": [
    {
     "data": {
      "text/html": [
       "<div>\n",
       "<style scoped>\n",
       "    .dataframe tbody tr th:only-of-type {\n",
       "        vertical-align: middle;\n",
       "    }\n",
       "\n",
       "    .dataframe tbody tr th {\n",
       "        vertical-align: top;\n",
       "    }\n",
       "\n",
       "    .dataframe thead th {\n",
       "        text-align: right;\n",
       "    }\n",
       "</style>\n",
       "<table border=\"1\" class=\"dataframe\">\n",
       "  <thead>\n",
       "    <tr style=\"text-align: right;\">\n",
       "      <th></th>\n",
       "      <th>EAN</th>\n",
       "      <th>TITRE</th>\n",
       "      <th>AUTEUR</th>\n",
       "      <th>EDITEUR</th>\n",
       "      <th>PRIX</th>\n",
       "      <th>DISPO</th>\n",
       "      <th>QTE</th>\n",
       "      <th>TOTAL</th>\n",
       "    </tr>\n",
       "  </thead>\n",
       "  <tbody>\n",
       "    <tr>\n",
       "      <th>0</th>\n",
       "      <td>9782723441995</td>\n",
       "      <td>RAGHNAROK - TOME 03 - TERREURS DE LA NATURE</td>\n",
       "      <td>BOULET</td>\n",
       "      <td>GLENAT</td>\n",
       "      <td>10,95</td>\n",
       "      <td>1</td>\n",
       "      <td>1</td>\n",
       "      <td>10,95</td>\n",
       "    </tr>\n",
       "    <tr>\n",
       "      <th>1</th>\n",
       "      <td>9782723442008</td>\n",
       "      <td>LA RUBRIQUE SCIENTIFIQUE - TOME 02</td>\n",
       "      <td>BOULET</td>\n",
       "      <td>GLENAT</td>\n",
       "      <td>10,95</td>\n",
       "      <td>7</td>\n",
       "      <td>1</td>\n",
       "      <td>10,95</td>\n",
       "    </tr>\n",
       "    <tr>\n",
       "      <th>2</th>\n",
       "      <td>9782723442022</td>\n",
       "      <td>WOMOKS - TOME 03 - ALBON, LES BRUTES ET LES TR...</td>\n",
       "      <td>BOULET/RENO</td>\n",
       "      <td>GLENAT</td>\n",
       "      <td>10,95</td>\n",
       "      <td>1</td>\n",
       "      <td>1</td>\n",
       "      <td>10,95</td>\n",
       "    </tr>\n",
       "    <tr>\n",
       "      <th>3</th>\n",
       "      <td>9782723442039</td>\n",
       "      <td>TENZING ET LES SHERPAS DE L'EVEREST</td>\n",
       "      <td>TENZING</td>\n",
       "      <td>GLENAT</td>\n",
       "      <td>19,99</td>\n",
       "      <td>7</td>\n",
       "      <td>1</td>\n",
       "      <td>19,99</td>\n",
       "    </tr>\n",
       "    <tr>\n",
       "      <th>4</th>\n",
       "      <td>9782723442077</td>\n",
       "      <td>BLACK CAT - TOME 02</td>\n",
       "      <td>YABUKI KENTARO</td>\n",
       "      <td>GLENAT</td>\n",
       "      <td>6,9</td>\n",
       "      <td>7</td>\n",
       "      <td>1</td>\n",
       "      <td>6,9</td>\n",
       "    </tr>\n",
       "  </tbody>\n",
       "</table>\n",
       "</div>"
      ],
      "text/plain": [
       "             EAN                                              TITRE  \\\n",
       "0  9782723441995        RAGHNAROK - TOME 03 - TERREURS DE LA NATURE   \n",
       "1  9782723442008                 LA RUBRIQUE SCIENTIFIQUE - TOME 02   \n",
       "2  9782723442022  WOMOKS - TOME 03 - ALBON, LES BRUTES ET LES TR...   \n",
       "3  9782723442039                TENZING ET LES SHERPAS DE L'EVEREST   \n",
       "4  9782723442077                                BLACK CAT - TOME 02   \n",
       "\n",
       "           AUTEUR EDITEUR   PRIX  DISPO  QTE  TOTAL  \n",
       "0          BOULET  GLENAT  10,95      1    1  10,95  \n",
       "1          BOULET  GLENAT  10,95      7    1  10,95  \n",
       "2     BOULET/RENO  GLENAT  10,95      1    1  10,95  \n",
       "3         TENZING  GLENAT  19,99      7    1  19,99  \n",
       "4  YABUKI KENTARO  GLENAT    6,9      7    1    6,9  "
      ]
     },
     "execution_count": 3,
     "metadata": {},
     "output_type": "execute_result"
    }
   ],
   "source": [
    "orders.head()"
   ]
  },
  {
   "cell_type": "markdown",
   "metadata": {},
   "source": [
    "# Transformations\n",
    "- Cast the \"total\" column to float \n",
    "- Cast the \"price\" column to float"
   ]
  },
  {
   "cell_type": "code",
   "execution_count": 4,
   "metadata": {},
   "outputs": [
    {
     "data": {
      "text/html": [
       "<div>\n",
       "<style scoped>\n",
       "    .dataframe tbody tr th:only-of-type {\n",
       "        vertical-align: middle;\n",
       "    }\n",
       "\n",
       "    .dataframe tbody tr th {\n",
       "        vertical-align: top;\n",
       "    }\n",
       "\n",
       "    .dataframe thead th {\n",
       "        text-align: right;\n",
       "    }\n",
       "</style>\n",
       "<table border=\"1\" class=\"dataframe\">\n",
       "  <thead>\n",
       "    <tr style=\"text-align: right;\">\n",
       "      <th></th>\n",
       "      <th>EAN</th>\n",
       "      <th>TITRE</th>\n",
       "      <th>AUTEUR</th>\n",
       "      <th>EDITEUR</th>\n",
       "      <th>PRIX</th>\n",
       "      <th>DISPO</th>\n",
       "      <th>QTE</th>\n",
       "      <th>TOTAL</th>\n",
       "    </tr>\n",
       "  </thead>\n",
       "  <tbody>\n",
       "    <tr>\n",
       "      <th>0</th>\n",
       "      <td>9782723441995</td>\n",
       "      <td>RAGHNAROK - TOME 03 - TERREURS DE LA NATURE</td>\n",
       "      <td>BOULET</td>\n",
       "      <td>GLENAT</td>\n",
       "      <td>10.95</td>\n",
       "      <td>1</td>\n",
       "      <td>1</td>\n",
       "      <td>10.95</td>\n",
       "    </tr>\n",
       "    <tr>\n",
       "      <th>1</th>\n",
       "      <td>9782723442008</td>\n",
       "      <td>LA RUBRIQUE SCIENTIFIQUE - TOME 02</td>\n",
       "      <td>BOULET</td>\n",
       "      <td>GLENAT</td>\n",
       "      <td>10.95</td>\n",
       "      <td>7</td>\n",
       "      <td>1</td>\n",
       "      <td>10.95</td>\n",
       "    </tr>\n",
       "    <tr>\n",
       "      <th>2</th>\n",
       "      <td>9782723442022</td>\n",
       "      <td>WOMOKS - TOME 03 - ALBON, LES BRUTES ET LES TR...</td>\n",
       "      <td>BOULET/RENO</td>\n",
       "      <td>GLENAT</td>\n",
       "      <td>10.95</td>\n",
       "      <td>1</td>\n",
       "      <td>1</td>\n",
       "      <td>10.95</td>\n",
       "    </tr>\n",
       "    <tr>\n",
       "      <th>3</th>\n",
       "      <td>9782723442039</td>\n",
       "      <td>TENZING ET LES SHERPAS DE L'EVEREST</td>\n",
       "      <td>TENZING</td>\n",
       "      <td>GLENAT</td>\n",
       "      <td>19.99</td>\n",
       "      <td>7</td>\n",
       "      <td>1</td>\n",
       "      <td>19.99</td>\n",
       "    </tr>\n",
       "    <tr>\n",
       "      <th>4</th>\n",
       "      <td>9782723442077</td>\n",
       "      <td>BLACK CAT - TOME 02</td>\n",
       "      <td>YABUKI KENTARO</td>\n",
       "      <td>GLENAT</td>\n",
       "      <td>6.90</td>\n",
       "      <td>7</td>\n",
       "      <td>1</td>\n",
       "      <td>6.90</td>\n",
       "    </tr>\n",
       "  </tbody>\n",
       "</table>\n",
       "</div>"
      ],
      "text/plain": [
       "             EAN                                              TITRE  \\\n",
       "0  9782723441995        RAGHNAROK - TOME 03 - TERREURS DE LA NATURE   \n",
       "1  9782723442008                 LA RUBRIQUE SCIENTIFIQUE - TOME 02   \n",
       "2  9782723442022  WOMOKS - TOME 03 - ALBON, LES BRUTES ET LES TR...   \n",
       "3  9782723442039                TENZING ET LES SHERPAS DE L'EVEREST   \n",
       "4  9782723442077                                BLACK CAT - TOME 02   \n",
       "\n",
       "           AUTEUR EDITEUR   PRIX  DISPO  QTE  TOTAL  \n",
       "0          BOULET  GLENAT  10.95      1    1  10.95  \n",
       "1          BOULET  GLENAT  10.95      7    1  10.95  \n",
       "2     BOULET/RENO  GLENAT  10.95      1    1  10.95  \n",
       "3         TENZING  GLENAT  19.99      7    1  19.99  \n",
       "4  YABUKI KENTARO  GLENAT   6.90      7    1   6.90  "
      ]
     },
     "execution_count": 4,
     "metadata": {},
     "output_type": "execute_result"
    }
   ],
   "source": [
    "# Cast the price values to float\n",
    "orders[\"TOTAL\"] = orders.TOTAL.apply(lambda x: float(str(x).replace(\",\",\".\")))\n",
    "orders[\"PRIX\"] = orders.PRIX.apply(lambda x: float(str(x).replace(\",\",\".\")))\n",
    "orders.head()"
   ]
  },
  {
   "cell_type": "markdown",
   "metadata": {},
   "source": [
    "# Calculations"
   ]
  },
  {
   "cell_type": "code",
   "execution_count": 5,
   "metadata": {},
   "outputs": [
    {
     "name": "stderr",
     "output_type": "stream",
     "text": [
      "C:\\Users\\User\\AppData\\Local\\Temp\\ipykernel_20732\\99894656.py:30: SettingWithCopyWarning: \n",
      "A value is trying to be set on a copy of a slice from a DataFrame.\n",
      "Try using .loc[row_indexer,col_indexer] = value instead\n",
      "\n",
      "See the caveats in the documentation: https://pandas.pydata.org/pandas-docs/stable/user_guide/indexing.html#returning-a-view-versus-a-copy\n",
      "  orders[orders[\"EAN\"]==bar_code][\"DISPO\"] = dispo - qte\n",
      "C:\\Users\\User\\AppData\\Local\\Temp\\ipykernel_20732\\99894656.py:24: SettingWithCopyWarning: \n",
      "A value is trying to be set on a copy of a slice from a DataFrame.\n",
      "Try using .loc[row_indexer,col_indexer] = value instead\n",
      "\n",
      "See the caveats in the documentation: https://pandas.pydata.org/pandas-docs/stable/user_guide/indexing.html#returning-a-view-versus-a-copy\n",
      "  orders[orders[\"EAN\"]==bar_code][\"DISPO\"] = 0\n"
     ]
    }
   ],
   "source": [
    "# Initialize the counter\n",
    "booked = 0 \n",
    "# Using a defaultdict because\n",
    "# the values are automatically 0\n",
    "# when not modified\n",
    "not_booked = defaultdict(int)\n",
    "total = 0\n",
    "\n",
    "# Loop through the rows\n",
    "for i in range(len(orders)):\n",
    "    # Get the parameters\n",
    "    bar_code = orders.loc[i,\"EAN\"]\n",
    "    dispo = orders.loc[i, \"DISPO\"]\n",
    "    qte = orders.loc[i,\"QTE\"]\n",
    "    price = orders.loc[i,\"PRIX\"]\n",
    "    \n",
    "    # Check for the availability\n",
    "    if qte > dispo:\n",
    "        booked+= dispo\n",
    "        # Update the total price\n",
    "        total+= (price * dispo)\n",
    "        # Update the availability \n",
    "        not_booked[bar_code]+= qte - dispo\n",
    "        orders[orders[\"EAN\"]==bar_code][\"DISPO\"] = 0\n",
    "    else: \n",
    "        booked+= qte\n",
    "        # Update the total price\n",
    "        total+= (price * qte)\n",
    "        # Update the availability \n",
    "        orders[orders[\"EAN\"]==bar_code][\"DISPO\"] = dispo - qte"
   ]
  },
  {
   "cell_type": "markdown",
   "metadata": {},
   "source": [
    "# Get the stats "
   ]
  },
  {
   "cell_type": "markdown",
   "metadata": {},
   "source": [
    "## Author stats"
   ]
  },
  {
   "cell_type": "code",
   "execution_count": 6,
   "metadata": {},
   "outputs": [],
   "source": [
    "authors = orders[\"AUTEUR\"]\n",
    "# Get the count for each author\n",
    "value_counts = dict(authors.value_counts())\n",
    "# Get the author count\n",
    "author_count = len(authors)\n",
    "# Initialize the percentage list\n",
    "author_perc = dict()\n",
    "# Get the percentages \n",
    "for key,value in value_counts.items():\n",
    "    author_perc[key] = round(value*100/author_count,2)"
   ]
  },
  {
   "cell_type": "markdown",
   "metadata": {},
   "source": [
    "## Editor stats "
   ]
  },
  {
   "cell_type": "code",
   "execution_count": 7,
   "metadata": {},
   "outputs": [],
   "source": [
    "editors = orders[\"EDITEUR\"]\n",
    "# Get the count for each editor\n",
    "value_counts = dict(editors.value_counts())\n",
    "# Get the author count\n",
    "editor_count = len(editors)\n",
    "# Initialize the percentage list\n",
    "editor_perc = dict()\n",
    "# Get the percentages \n",
    "for key,value in value_counts.items():\n",
    "    editor_perc[key] = round(value*100/editor_count,2)"
   ]
  },
  {
   "cell_type": "markdown",
   "metadata": {},
   "source": [
    "## Word stats"
   ]
  },
  {
   "cell_type": "code",
   "execution_count": 8,
   "metadata": {},
   "outputs": [
    {
     "data": {
      "text/plain": [
       "<wordcloud.wordcloud.WordCloud at 0x18c00fcdc10>"
      ]
     },
     "execution_count": 8,
     "metadata": {},
     "output_type": "execute_result"
    }
   ],
   "source": [
    "# Excluding the word \"TOME\"\n",
    "wordcloud = WordCloud(stopwords=[\"TOME\"],collocations=False)\n",
    "# Get the corpus\n",
    "text = \" \".join(orders[\"TITRE\"])\n",
    "# Generate the wordcloud statistics\n",
    "wordcloud.generate_from_text(text)"
   ]
  },
  {
   "cell_type": "code",
   "execution_count": 9,
   "metadata": {},
   "outputs": [
    {
     "data": {
      "text/plain": [
       "['LE', 'DE', 'LA', 'DU', 'ET']"
      ]
     },
     "execution_count": 9,
     "metadata": {},
     "output_type": "execute_result"
    }
   ],
   "source": [
    "# Retrieve the first 5 words\n",
    "first_five = wordcloud.words_\n",
    "first_five = list(first_five.keys())[0:5]\n",
    "first_five"
   ]
  },
  {
   "cell_type": "code",
   "execution_count": 10,
   "metadata": {},
   "outputs": [],
   "source": [
    "column_names = [\"QTY TOTAL\",\"QTY NP\", \"PRIX TOTAL\", \"STAT-AUT\", \"STAT-EDT\", \"EXPR REG\"]\n"
   ]
  },
  {
   "cell_type": "markdown",
   "metadata": {},
   "source": [
    "# Generate the output"
   ]
  },
  {
   "cell_type": "code",
   "execution_count": 11,
   "metadata": {},
   "outputs": [],
   "source": [
    "# Intialize the resulting dataframe \n",
    "# as a dict\n",
    "result = dict()\n",
    "result[\"QTY TOTAL\"] = booked\n",
    "result[\"QTY NP\"] = []\n",
    "result[\"PRIX TOTAL\"] = total\n",
    "result[\"STAT-AUT\"] = []\n",
    "result[\"STAT-EDT\"] = []\n",
    "result[\"EXPR REG\"] = first_five\n",
    "\n",
    "# QTY NP\n",
    "for i in range(len(orders)):\n",
    "    # Get the values\n",
    "    bar_code = orders.loc[i,\"EAN\"]\n",
    "    nb = not_booked[bar_code]\n",
    "    \n",
    "    # Create the string value\n",
    "    string = f\"{bar_code}-{nb}\"\n",
    "    # Append to the list\n",
    "    result[\"QTY NP\"].append(string)\n",
    "\n",
    "# Author perc\n",
    "for key,value in author_perc.items():\n",
    "    # Create the string value \n",
    "    string = f\"{key}-{value}\"\n",
    "    result[\"STAT-AUT\"].append(string)\n",
    "\n",
    "# Editor perc  \n",
    "for key,value in editor_perc.items():\n",
    "    # Create the string value \n",
    "    string = f\"{key}-{value}\"\n",
    "    result[\"STAT-EDT\"].append(string)"
   ]
  },
  {
   "cell_type": "markdown",
   "metadata": {},
   "source": [
    "# Create the output DataFrame"
   ]
  },
  {
   "cell_type": "code",
   "execution_count": 12,
   "metadata": {},
   "outputs": [
    {
     "data": {
      "text/html": [
       "<div>\n",
       "<style scoped>\n",
       "    .dataframe tbody tr th:only-of-type {\n",
       "        vertical-align: middle;\n",
       "    }\n",
       "\n",
       "    .dataframe tbody tr th {\n",
       "        vertical-align: top;\n",
       "    }\n",
       "\n",
       "    .dataframe thead th {\n",
       "        text-align: right;\n",
       "    }\n",
       "</style>\n",
       "<table border=\"1\" class=\"dataframe\">\n",
       "  <thead>\n",
       "    <tr style=\"text-align: right;\">\n",
       "      <th></th>\n",
       "      <th>QTY TOTAL</th>\n",
       "      <th>QTY NP</th>\n",
       "      <th>PRIX TOTAL</th>\n",
       "      <th>STAT-AUT</th>\n",
       "      <th>STAT-EDT</th>\n",
       "      <th>EXPR REG</th>\n",
       "    </tr>\n",
       "  </thead>\n",
       "  <tbody>\n",
       "  </tbody>\n",
       "</table>\n",
       "</div>"
      ],
      "text/plain": [
       "Empty DataFrame\n",
       "Columns: [QTY TOTAL, QTY NP, PRIX TOTAL, STAT-AUT, STAT-EDT, EXPR REG]\n",
       "Index: []"
      ]
     },
     "execution_count": 12,
     "metadata": {},
     "output_type": "execute_result"
    }
   ],
   "source": [
    "output = pd.DataFrame(columns=column_names)\n",
    "output.head()"
   ]
  },
  {
   "cell_type": "code",
   "execution_count": 13,
   "metadata": {},
   "outputs": [],
   "source": [
    "# Assign the column values\n",
    "# If there's a list, display the values \n",
    "# with a line separator\n",
    "output[\"QTY TOTAL\"] = [result[\"QTY TOTAL\"]]\n",
    "output[\"QTY NP\"] = \"\\n\".join(result[\"QTY NP\"])\n",
    "output[\"PRIX TOTAL\"] = [result[\"PRIX TOTAL\"]]\n",
    "output[\"STAT-AUT\"] = \"\\n\".join(result[\"STAT-AUT\"])\n",
    "output[\"STAT-EDT\"] = \"\\n\".join(result[\"STAT-EDT\"])\n",
    "output[\"EXPR REG\"] = \"\\n\".join(result[\"EXPR REG\"])"
   ]
  },
  {
   "cell_type": "code",
   "execution_count": 14,
   "metadata": {},
   "outputs": [
    {
     "data": {
      "text/html": [
       "<div>\n",
       "<style scoped>\n",
       "    .dataframe tbody tr th:only-of-type {\n",
       "        vertical-align: middle;\n",
       "    }\n",
       "\n",
       "    .dataframe tbody tr th {\n",
       "        vertical-align: top;\n",
       "    }\n",
       "\n",
       "    .dataframe thead th {\n",
       "        text-align: right;\n",
       "    }\n",
       "</style>\n",
       "<table border=\"1\" class=\"dataframe\">\n",
       "  <thead>\n",
       "    <tr style=\"text-align: right;\">\n",
       "      <th></th>\n",
       "      <th>QTY TOTAL</th>\n",
       "      <th>QTY NP</th>\n",
       "      <th>PRIX TOTAL</th>\n",
       "      <th>STAT-AUT</th>\n",
       "      <th>STAT-EDT</th>\n",
       "      <th>EXPR REG</th>\n",
       "    </tr>\n",
       "  </thead>\n",
       "  <tbody>\n",
       "    <tr>\n",
       "      <th>0</th>\n",
       "      <td>915</td>\n",
       "      <td>9782723441995-0\\n9782723442008-0\\n978272344202...</td>\n",
       "      <td>11156.45</td>\n",
       "      <td>ADACHI MITSURU-4.44\\nKAMIO YOKO-3.44\\nMASHIMA ...</td>\n",
       "      <td>GLENAT-100.0</td>\n",
       "      <td>LE\\nDE\\nLA\\nDU\\nET</td>\n",
       "    </tr>\n",
       "  </tbody>\n",
       "</table>\n",
       "</div>"
      ],
      "text/plain": [
       "   QTY TOTAL                                             QTY NP  PRIX TOTAL  \\\n",
       "0        915  9782723441995-0\\n9782723442008-0\\n978272344202...    11156.45   \n",
       "\n",
       "                                            STAT-AUT      STAT-EDT  \\\n",
       "0  ADACHI MITSURU-4.44\\nKAMIO YOKO-3.44\\nMASHIMA ...  GLENAT-100.0   \n",
       "\n",
       "             EXPR REG  \n",
       "0  LE\\nDE\\nLA\\nDU\\nET  "
      ]
     },
     "execution_count": 14,
     "metadata": {},
     "output_type": "execute_result"
    }
   ],
   "source": [
    "output.head()"
   ]
  },
  {
   "cell_type": "markdown",
   "metadata": {},
   "source": [
    "# Save the output"
   ]
  },
  {
   "cell_type": "code",
   "execution_count": 15,
   "metadata": {},
   "outputs": [],
   "source": [
    "output.to_csv(\"jap_one.csv\",index=False,sep=\",\",line_terminator=\"\\n\")"
   ]
  },
  {
   "cell_type": "code",
   "execution_count": null,
   "metadata": {},
   "outputs": [],
   "source": []
  }
 ],
 "metadata": {
  "kernelspec": {
   "display_name": "Python 3 (ipykernel)",
   "language": "python",
   "name": "python3"
  },
  "language_info": {
   "codemirror_mode": {
    "name": "ipython",
    "version": 3
   },
   "file_extension": ".py",
   "mimetype": "text/x-python",
   "name": "python",
   "nbconvert_exporter": "python",
   "pygments_lexer": "ipython3",
   "version": "3.9.12"
  },
  "vscode": {
   "interpreter": {
    "hash": "eeae61f6c77b45f0a8deba507622d1a28221dbfddd623e028ae598a75519c7a9"
   }
  }
 },
 "nbformat": 4,
 "nbformat_minor": 2
}
